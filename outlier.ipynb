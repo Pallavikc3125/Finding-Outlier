{
 "cells": [
  {
   "cell_type": "code",
   "execution_count": 5,
   "metadata": {},
   "outputs": [],
   "source": [
    "ss = [2, 4, 5, 6, 7, 2, 3, 4, 5, 3, 4, 7, 7, 8, 10]"
   ]
  },
  {
   "cell_type": "code",
   "execution_count": 6,
   "metadata": {},
   "outputs": [],
   "source": [
    "def mean(arr):\n",
    "    sum = 0\n",
    "    for i in arr:\n",
    "        sum += i\n",
    "    n = len(arr)\n",
    "    return sum/n"
   ]
  },
  {
   "cell_type": "code",
   "execution_count": 7,
   "metadata": {},
   "outputs": [],
   "source": [
    "def median(arr):\n",
    "    arr = sorted(arr)\n",
    "    mid = (len(arr) - 1) // 2\n",
    "    sum = 0\n",
    "    if len(arr) % 2 == 0:\n",
    "        sum = arr[mid] + arr[mid + 1]\n",
    "        return sum / 2\n",
    "    else:\n",
    "        sum = arr[mid]\n",
    "        return sum \n",
    "        "
   ]
  },
  {
   "cell_type": "code",
   "execution_count": 8,
   "metadata": {},
   "outputs": [],
   "source": [
    "def range_stat(arr):\n",
    "    max_v = max(arr)\n",
    "    min_v = min(arr)\n",
    "    return max_v - min_v"
   ]
  },
  {
   "cell_type": "code",
   "execution_count": 9,
   "metadata": {},
   "outputs": [
    {
     "data": {
      "text/plain": [
       "164.28571428571428"
      ]
     },
     "execution_count": 9,
     "metadata": {},
     "output_type": "execute_result"
    }
   ],
   "source": [
    "age = [10, 30, 20, 30, 40, 20, 20, 50]\n",
    "def variance(arr):\n",
    "    mean_v = mean(arr)\n",
    "    size = len(arr) - 1\n",
    "    sum = 0\n",
    "    for i in arr:\n",
    "        sum += (i - mean_v) ** 2\n",
    "\n",
    "    return sum / size\n",
    "variance(age)"
   ]
  },
  {
   "cell_type": "code",
   "execution_count": 10,
   "metadata": {},
   "outputs": [
    {
     "data": {
      "text/plain": [
       "12.817398889233115"
      ]
     },
     "execution_count": 10,
     "metadata": {},
     "output_type": "execute_result"
    }
   ],
   "source": [
    "import math\n",
    "def standard_deviation(arr):\n",
    "    return math.sqrt(variance(arr))\n",
    "\n",
    "standard_deviation(age)"
   ]
  },
  {
   "cell_type": "code",
   "execution_count": 11,
   "metadata": {},
   "outputs": [
    {
     "data": {
      "text/plain": [
       "7"
      ]
     },
     "execution_count": 11,
     "metadata": {},
     "output_type": "execute_result"
    }
   ],
   "source": [
    "a = [1, 3, 4, 5, 5, 7 ,7, 7, 6, 6 ,6 ]\n",
    "\n",
    "def mode(arr):\n",
    "    r = sorted(arr)\n",
    "    u_arr = set(arr)\n",
    "\n",
    "    m = {}\n",
    "    for i in u_arr:\n",
    "        m[arr.count(i)] = i \n",
    "    \n",
    "    return m.get(max(m.keys()))\n",
    "\n",
    "mode(a)"
   ]
  },
  {
   "cell_type": "code",
   "execution_count": 12,
   "metadata": {},
   "outputs": [],
   "source": [
    "import math\n",
    "def correlation(arr1,arr2):\n",
    "    SD_arr1 = standard_deviation(arr1)\n",
    "    SD_arr2 = standard_deviation(arr2)\n",
    "    N = len(arr1)-1\n",
    "    \n",
    "    sum = 0\n",
    "    mean_arr1 = mean(arr1)\n",
    "    mean_arr2 = mean(arr2)\n",
    "    for i in range(0, len(arr1)):\n",
    "        sum = (sum + (arr1[i] - mean_arr1) * (arr2[i] - mean_arr2))\n",
    "\n",
    "    return sum / (N * SD_arr1 * SD_arr2 )"
   ]
  },
  {
   "cell_type": "code",
   "execution_count": 13,
   "metadata": {},
   "outputs": [
    {
     "data": {
      "text/plain": [
       "40.24922359499622"
      ]
     },
     "execution_count": 13,
     "metadata": {},
     "output_type": "execute_result"
    }
   ],
   "source": [
    "a = [105, 110, 200, 150, 170]\n",
    "\n",
    "mean(a)\n",
    "standard_deviation(a)"
   ]
  },
  {
   "cell_type": "code",
   "execution_count": 14,
   "metadata": {},
   "outputs": [
    {
     "data": {
      "text/plain": [
       "40.24922359499622"
      ]
     },
     "execution_count": 14,
     "metadata": {},
     "output_type": "execute_result"
    }
   ],
   "source": [
    "a = [110, 115, 205, 155, 175]\n",
    "\n",
    "mean(a)\n",
    "standard_deviation(a)"
   ]
  },
  {
   "cell_type": "code",
   "execution_count": 15,
   "metadata": {},
   "outputs": [
    {
     "data": {
      "text/plain": [
       "6.6558245169174945"
      ]
     },
     "execution_count": 15,
     "metadata": {},
     "output_type": "execute_result"
    }
   ],
   "source": [
    "a = [26, 15, 20, 31, 31, 30]\n",
    "\n",
    "mean(a)\n",
    "median(a)\n",
    "mode(a)\n",
    "range_stat(a)\n",
    "variance(a)\n",
    "standard_deviation(a)\n"
   ]
  },
  {
   "cell_type": "code",
   "execution_count": 16,
   "metadata": {},
   "outputs": [
    {
     "data": {
      "text/plain": [
       "[20, 28.0, 30.5]"
      ]
     },
     "execution_count": 16,
     "metadata": {},
     "output_type": "execute_result"
    }
   ],
   "source": [
    "def qurtile(arr):\n",
    "    q2 = median(arr)\n",
    "    lr = arr[:len(arr) // 2]\n",
    "    q1 = median(lr)\n",
    "    hr = arr[(len(arr) // 2) + 1:]\n",
    "    q3 = median(hr)\n",
    "    return [q1, q2, q3]\n",
    "\n",
    "qurtile(a)"
   ]
  },
  {
   "cell_type": "code",
   "execution_count": 17,
   "metadata": {},
   "outputs": [
    {
     "data": {
      "text/plain": [
       "10.5"
      ]
     },
     "execution_count": 17,
     "metadata": {},
     "output_type": "execute_result"
    }
   ],
   "source": [
    "def interQurtileRange(arr):\n",
    "    value = qurtile(arr)\n",
    "    return value[2] - value[0]\n",
    "\n",
    "interQurtileRange(a)"
   ]
  },
  {
   "cell_type": "code",
   "execution_count": 18,
   "metadata": {},
   "outputs": [
    {
     "data": {
      "text/plain": [
       "[]"
      ]
     },
     "execution_count": 18,
     "metadata": {},
     "output_type": "execute_result"
    }
   ],
   "source": [
    "def outlierLow(arr):\n",
    "    q1 = qurtile(arr)[0]\n",
    "    iqr = interQurtileRange(arr)\n",
    "    lb = q1 - (1.5 * iqr)\n",
    "    return [i for i in arr if i < lb]\n",
    "\n",
    "outlierLow(a)"
   ]
  },
  {
   "cell_type": "code",
   "execution_count": 19,
   "metadata": {},
   "outputs": [
    {
     "data": {
      "text/plain": [
       "[]"
      ]
     },
     "execution_count": 19,
     "metadata": {},
     "output_type": "execute_result"
    }
   ],
   "source": [
    "def outlierHigh(arr):\n",
    "    q3 = qurtile(arr)[2]\n",
    "    iqr = interQurtileRange(arr)\n",
    "    hb = q3 + (1.5 * iqr)\n",
    "    return [i for i in arr if i > hb]\n",
    "\n",
    "outlierHigh(a)"
   ]
  },
  {
   "cell_type": "code",
   "execution_count": 20,
   "metadata": {},
   "outputs": [],
   "source": [
    "a = [10 , 11, 12, 25, 25, 27, 31, 33, 34, 34, 35, 36, 43, 50, 59]"
   ]
  },
  {
   "cell_type": "code",
   "execution_count": 21,
   "metadata": {},
   "outputs": [],
   "source": [
    "import matplotlib.pyplot as plt \n",
    "import seaborn as sns"
   ]
  },
  {
   "cell_type": "code",
   "execution_count": 22,
   "metadata": {},
   "outputs": [
    {
     "data": {
      "image/png": "[encoded data removed]",
      "text/plain": [
       "<Figure size 640x480 with 1 Axes>"
      ]
     },
     "metadata": {},
     "output_type": "display_data"
    }
   ],
   "source": [
    "plt.hist(a)\n",
    "plt.show()"
   ]
  },
  {
   "cell_type": "code",
   "execution_count": 23,
   "metadata": {},
   "outputs": [
    {
     "data": {
      "image/png": "[encoded data removed]",
      "text/plain": [
       "<Figure size 640x480 with 1 Axes>"
      ]
     },
     "metadata": {},
     "output_type": "display_data"
    },
    {
     "name": "stderr",
     "output_type": "stream",
     "text": [
      "c:\\Users\\Bhanu\\anaconda3\\lib\\site-packages\\seaborn\\_decorators.py:36: FutureWarning: Pass the following variable as a keyword arg: x. From version 0.12, the only valid positional argument will be `data`, and passing other arguments without an explicit keyword will result in an error or misinterpretation.\n",
      "  warnings.warn(\n"
     ]
    },
    {
     "data": {
      "text/plain": [
       "<seaborn.axisgrid.FacetGrid at 0x1a4eb551fa0>"
      ]
     },
     "execution_count": 23,
     "metadata": {},
     "output_type": "execute_result"
    },
    {
     "data": {
      "image/png": "[encoded data removed]",
      "text/plain": [
       "<Figure size 640x480 with 1 Axes>"
      ]
     },
     "metadata": {},
     "output_type": "display_data"
    },
    {
     "data": {
      "image/png": "[encoded data removed]",
      "text/plain": [
       "<Figure size 500x500 with 1 Axes>"
      ]
     },
     "metadata": {},
     "output_type": "display_data"
    }
   ],
   "source": [
    "plt.boxplot(a)\n",
    "plt.show()\n",
    "\n",
    "sns.boxplot(a)\n",
    "sns.displot(a)"
   ]
  },
  {
   "cell_type": "code",
   "execution_count": 24,
   "metadata": {},
   "outputs": [
    {
     "data": {
      "text/plain": [
       "[7]"
      ]
     },
     "execution_count": 24,
     "metadata": {},
     "output_type": "execute_result"
    }
   ],
   "source": [
    "a = [2, 4, 6, 7, 8]\n",
    "\n",
    "b = []\n",
    "for i in a:\n",
    "    if i % 2 == 1:\n",
    "        b.append(i)\n",
    "\n",
    "b = [i for i in a if i % 2 == 1]\n",
    "b"
   ]
  }
 ],
 "metadata": {
  "kernelspec": {
   "display_name": "Python 3.9.13 ('base')",
   "language": "python",
   "name": "python3"
  },
  "language_info": {
   "codemirror_mode": {
    "name": "ipython",
    "version": 3
   },
   "file_extension": ".py",
   "mimetype": "text/x-python",
   "name": "python",
   "nbconvert_exporter": "python",
   "pygments_lexer": "ipython3",
   "version": "3.9.13 (main, Aug 25 2022, 23:51:50) [MSC v.1916 64 bit (AMD64)]"
  },
  "vscode": {
   "interpreter": {
    "hash": "8c6cb2d87f698076605cd6dc4ec69d7a37004d527bf6f886026d25dc9c6954d4"
   }
  }
 },
 "nbformat": 4,
 "nbformat_minor": 2
}
